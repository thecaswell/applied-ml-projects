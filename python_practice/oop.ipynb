{
 "cells": [
  {
   "cell_type": "code",
   "execution_count": 1,
   "id": "initial_id",
   "metadata": {},
   "outputs": [],
   "source": [
    "from typing import List, Dict\n",
    "\n",
    "class Recipe:\n",
    "    def __init__(self, user_id: str, context: Dict, user_scores: Dict[str, float], product_catalog: Dict[str, Dict]):\n",
    "        self.user_id = user_id\n",
    "        self.context = context\n",
    "        self.user_scores = user_scores\n",
    "        self.product_catalog = product_catalog\n",
    "\n",
    "    def get_recommendations(self, top_k: int = 10) -> List[str]:\n",
    "        raise NotImplementedError(\"Subclasses must implement this method.\")\n"
   ]
  },
  {
   "cell_type": "code",
   "execution_count": 2,
   "id": "c5974116-0d34-4879-883a-09c5fb73943e",
   "metadata": {},
   "outputs": [],
   "source": [
    "class ChosenForYouRecipe(Recipe):\n",
    "    def filter_by_category(self, skus: List[str]) -> List[str]:\n",
    "        target_category = self.context.get(\"category\")\n",
    "        return [\n",
    "            sku for sku in skus\n",
    "            if self.product_catalog.get(sku, {}).get(\"category\") == target_category\n",
    "        ]\n",
    "\n",
    "    def rank_skus(self, skus: List[str]) -> List[str]:\n",
    "        return sorted(skus, key=lambda x: self.user_scores.get(x, 0), reverse=True)\n",
    "\n",
    "    def get_recommendations(self, top_k: int = 10) -> List[str]:\n",
    "        all_skus = list(self.user_scores.keys())\n",
    "        filtered = self.filter_by_category(all_skus)\n",
    "        ranked = self.rank_skus(filtered)\n",
    "        return ranked[:top_k]\n"
   ]
  },
  {
   "cell_type": "code",
   "execution_count": 3,
   "id": "b90ec0bb-6377-4935-af1f-ed0cbc0483f1",
   "metadata": {},
   "outputs": [],
   "source": [
    "import numpy as np\n",
    "from sklearn.metrics.pairwise import cosine_similarity\n",
    "\n",
    "class SimilarItemsRecipe:\n",
    "    def __init__(self, sku_id: str, product_embeddings: Dict[str, np.ndarray], product_catalog: Dict[str, Dict]):\n",
    "        self.sku_id = sku_id\n",
    "        self.product_embeddings = product_embeddings\n",
    "        self.product_catalog = product_catalog\n",
    "\n",
    "    def get_similar_items(self, top_k: int = 5) -> List[str]:\n",
    "        target_vec = self.product_embeddings[self.sku_id].reshape(1, -1)\n",
    "        target_cat = self.product_catalog[self.sku_id][\"category\"]\n",
    "\n",
    "        similarities = {\n",
    "            sku: cosine_similarity(target_vec, emb.reshape(1, -1))[0][0]\n",
    "            for sku, emb in self.product_embeddings.items()\n",
    "            if sku != self.sku_id and self.product_catalog[sku][\"category\"] == target_cat\n",
    "        }\n",
    "\n",
    "        ranked = sorted(similarities.items(), key=lambda x: x[1], reverse=True)\n",
    "        return [sku for sku, _ in ranked[:top_k]]\n"
   ]
  },
  {
   "cell_type": "code",
   "execution_count": 4,
   "id": "245cc4c4-f88e-4144-ad0e-c3e0c9704e41",
   "metadata": {},
   "outputs": [
    {
     "name": "stdout",
     "output_type": "stream",
     "text": [
      "Chosen for You: ['sku_101', 'sku_105', 'sku_103']\n"
     ]
    }
   ],
   "source": [
    "# Sample input\n",
    "context = {\"category\": \"hair\"}\n",
    "user_scores = {\n",
    "    \"sku_101\": 0.92,\n",
    "    \"sku_102\": 0.85,\n",
    "    \"sku_103\": 0.30,\n",
    "    \"sku_104\": 0.65,\n",
    "    \"sku_105\": 0.78\n",
    "}\n",
    "product_catalog = {\n",
    "    \"sku_101\": {\"category\": \"hair\", \"brand\": \"BrandA\"},\n",
    "    \"sku_102\": {\"category\": \"makeup\", \"brand\": \"BrandB\"},\n",
    "    \"sku_103\": {\"category\": \"hair\", \"brand\": \"BrandC\"},\n",
    "    \"sku_104\": {\"category\": \"skin\", \"brand\": \"BrandD\"},\n",
    "    \"sku_105\": {\"category\": \"hair\", \"brand\": \"BrandA\"},\n",
    "}\n",
    "\n",
    "# Instantiate and run ChosenForYou\n",
    "chosen = ChosenForYouRecipe(\n",
    "    user_id=\"user_456\",\n",
    "    context=context,\n",
    "    user_scores=user_scores,\n",
    "    product_catalog=product_catalog\n",
    ")\n",
    "print(\"Chosen for You:\", chosen.get_recommendations(top_k=3))\n"
   ]
  }
 ],
 "metadata": {
  "kernelspec": {
   "display_name": "Python 3 (ipykernel)",
   "language": "python",
   "name": "python3"
  },
  "language_info": {
   "codemirror_mode": {
    "name": "ipython",
    "version": 3
   },
   "file_extension": ".py",
   "mimetype": "text/x-python",
   "name": "python",
   "nbconvert_exporter": "python",
   "pygments_lexer": "ipython3",
   "version": "3.10.13"
  }
 },
 "nbformat": 4,
 "nbformat_minor": 5
}
